{
 "cells": [
  {
   "cell_type": "code",
   "execution_count": 1,
   "metadata": {},
   "outputs": [],
   "source": [
    "import pandas as pd\n",
    "import numpy as np\n",
    "from sklearn import linear_model\n",
    "from sklearn import model_selection\n",
    "from sklearn.metrics import classification_report\n",
    "from sklearn.metrics import confusion_matrix\n",
    "from sklearn.metrics import accuracy_score\n",
    "import matplotlib.pyplot as plt\n",
    "import seaborn as sb\n",
    "from pandas import DataFrame\n",
    "%matplotlib inline"
   ]
  },
  {
   "cell_type": "code",
   "execution_count": 2,
   "metadata": {},
   "outputs": [],
   "source": [
    "dataframe = pd.read_csv(\"InformacionEmpleadoJunto.csv\")"
   ]
  },
  {
   "cell_type": "code",
   "execution_count": 3,
   "metadata": {},
   "outputs": [
    {
     "data": {
      "text/html": [
       "<div>\n",
       "<style scoped>\n",
       "    .dataframe tbody tr th:only-of-type {\n",
       "        vertical-align: middle;\n",
       "    }\n",
       "\n",
       "    .dataframe tbody tr th {\n",
       "        vertical-align: top;\n",
       "    }\n",
       "\n",
       "    .dataframe thead th {\n",
       "        text-align: right;\n",
       "    }\n",
       "</style>\n",
       "<table border=\"1\" class=\"dataframe\">\n",
       "  <thead>\n",
       "    <tr style=\"text-align: right;\">\n",
       "      <th></th>\n",
       "      <th>NIVEL_CARGO</th>\n",
       "      <th>EDAD</th>\n",
       "      <th>ANTIGUEDAD_ANOS</th>\n",
       "      <th>GENERO</th>\n",
       "      <th>FRAUDE</th>\n",
       "    </tr>\n",
       "  </thead>\n",
       "  <tbody>\n",
       "    <tr>\n",
       "      <th>0</th>\n",
       "      <td>AUXILIAR</td>\n",
       "      <td>31</td>\n",
       "      <td>4</td>\n",
       "      <td>F</td>\n",
       "      <td>S</td>\n",
       "    </tr>\n",
       "    <tr>\n",
       "      <th>1</th>\n",
       "      <td>DIRECTOR</td>\n",
       "      <td>39</td>\n",
       "      <td>15</td>\n",
       "      <td>F</td>\n",
       "      <td>N</td>\n",
       "    </tr>\n",
       "    <tr>\n",
       "      <th>2</th>\n",
       "      <td>AUXILIAR</td>\n",
       "      <td>49</td>\n",
       "      <td>1</td>\n",
       "      <td>F</td>\n",
       "      <td>N</td>\n",
       "    </tr>\n",
       "    <tr>\n",
       "      <th>3</th>\n",
       "      <td>ANALISTA</td>\n",
       "      <td>33</td>\n",
       "      <td>4</td>\n",
       "      <td>F</td>\n",
       "      <td>N</td>\n",
       "    </tr>\n",
       "    <tr>\n",
       "      <th>4</th>\n",
       "      <td>ANALISTA</td>\n",
       "      <td>53</td>\n",
       "      <td>22</td>\n",
       "      <td>F</td>\n",
       "      <td>N</td>\n",
       "    </tr>\n",
       "  </tbody>\n",
       "</table>\n",
       "</div>"
      ],
      "text/plain": [
       "  NIVEL_CARGO  EDAD  ANTIGUEDAD_ANOS GENERO FRAUDE\n",
       "0    AUXILIAR    31                4      F      S\n",
       "1    DIRECTOR    39               15      F      N\n",
       "2    AUXILIAR    49                1      F      N\n",
       "3    ANALISTA    33                4      F      N\n",
       "4    ANALISTA    53               22      F      N"
      ]
     },
     "execution_count": 3,
     "metadata": {},
     "output_type": "execute_result"
    }
   ],
   "source": [
    "dataframe.head()"
   ]
  },
  {
   "cell_type": "markdown",
   "metadata": {},
   "source": [
    "# Correlación de variables.\n",
    "\n",
    "A continuación se procedera a encontrar la correlacion de las variables.\n",
    "\n",
    "El valor del índice de correlación varía en el intervalo [-1,1], indicando el signo el sentido de la relación:\n",
    "\n",
    "1) Si r = 1, existe una correlación positiva perfecta. El índice indica una dependencia total entre las dos variables denominada relación directa: cuando una de ellas aumenta, la otra también lo hace en proporción constante.\n",
    "\n",
    "2) Si 0 < r < 1, existe una correlación positiva.\n",
    "\n",
    "3) Si r = 0, no existe relación lineal. Pero esto no necesariamente implica que las variables son independientes: pueden existir todavía relaciones no lineales entre las dos variables.\n",
    "\n",
    "4) Si -1 < r < 0, existe una correlación negativa.\n",
    "\n",
    "5) Si r = -1, existe una correlación negativa perfecta. El índice indica una dependencia total entre las dos variables llamada relación inversa: cuando una de ellas aumenta, la otra disminuye en proporción constante"
   ]
  },
  {
   "cell_type": "code",
   "execution_count": 4,
   "metadata": {},
   "outputs": [
    {
     "data": {
      "text/html": [
       "<div>\n",
       "<style scoped>\n",
       "    .dataframe tbody tr th:only-of-type {\n",
       "        vertical-align: middle;\n",
       "    }\n",
       "\n",
       "    .dataframe tbody tr th {\n",
       "        vertical-align: top;\n",
       "    }\n",
       "\n",
       "    .dataframe thead th {\n",
       "        text-align: right;\n",
       "    }\n",
       "</style>\n",
       "<table border=\"1\" class=\"dataframe\">\n",
       "  <thead>\n",
       "    <tr style=\"text-align: right;\">\n",
       "      <th></th>\n",
       "      <th>EDAD</th>\n",
       "      <th>ANTIGUEDAD_ANOS</th>\n",
       "    </tr>\n",
       "  </thead>\n",
       "  <tbody>\n",
       "    <tr>\n",
       "      <th>EDAD</th>\n",
       "      <td>1.000000</td>\n",
       "      <td>0.808052</td>\n",
       "    </tr>\n",
       "    <tr>\n",
       "      <th>ANTIGUEDAD_ANOS</th>\n",
       "      <td>0.808052</td>\n",
       "      <td>1.000000</td>\n",
       "    </tr>\n",
       "  </tbody>\n",
       "</table>\n",
       "</div>"
      ],
      "text/plain": [
       "                     EDAD  ANTIGUEDAD_ANOS\n",
       "EDAD             1.000000         0.808052\n",
       "ANTIGUEDAD_ANOS  0.808052         1.000000"
      ]
     },
     "execution_count": 4,
     "metadata": {},
     "output_type": "execute_result"
    }
   ],
   "source": [
    "dataframe.corr()"
   ]
  },
  {
   "cell_type": "code",
   "execution_count": 5,
   "metadata": {},
   "outputs": [
    {
     "data": {
      "text/plain": [
       "3"
      ]
     },
     "execution_count": 5,
     "metadata": {},
     "output_type": "execute_result"
    }
   ],
   "source": [
    "#df = pd.DataFrame(dataframe)\n",
    "\n",
    "#df[\"id\"] = pd.to_numeric(df[\"id\"])\n",
    "\n",
    "# Agrupando columnas por tipo de datos\n",
    "tipos = dataframe.columns.to_series().groupby(dataframe.dtypes).groups\n",
    "\n",
    "# Armando lista de columnas categóricas\n",
    "ctext = tipos[np.dtype('object')]\n",
    "\n",
    "# cantidad de columnas con datos categóricos. \n",
    "len(ctext)"
   ]
  },
  {
   "cell_type": "code",
   "execution_count": 6,
   "metadata": {},
   "outputs": [
    {
     "name": "stdout",
     "output_type": "stream",
     "text": [
      "['ANTIGUEDAD_ANOS', 'EDAD']\n",
      "Index(['NIVEL_CARGO', 'GENERO', 'FRAUDE'], dtype='object')\n"
     ]
    }
   ],
   "source": [
    "# Armando lista de columnas numéricas\n",
    "columnas = dataframe.columns  # lista de todas las columnas\n",
    "cnum = list(set(columnas) - set(ctext))\n",
    "len(cnum)\n",
    "\n",
    "print(cnum)\n",
    "print(ctext)"
   ]
  },
  {
   "cell_type": "code",
   "execution_count": 7,
   "metadata": {},
   "outputs": [],
   "source": [
    "# Completando valores faltantas datos categóricos\n",
    "for c in ctext:\n",
    "    mode = dataframe[c].mode()[0]\n",
    "    dataframe[c] = dataframe[c].fillna(mode)\n",
    "    \n",
    "    \n",
    "# Completando valores faltantas datos cuantititavos\n",
    "for c in cnum:\n",
    "    mean = dataframe[c].mean()\n",
    "    dataframe[c] = dataframe[c].fillna(mean)"
   ]
  },
  {
   "cell_type": "code",
   "execution_count": 8,
   "metadata": {},
   "outputs": [],
   "source": [
    "# Convierto las variables categoricas a numericas\n",
    "for c in ctext:\n",
    "    dataframe[c], _ = pd.factorize(dataframe[c])"
   ]
  },
  {
   "cell_type": "code",
   "execution_count": 9,
   "metadata": {},
   "outputs": [
    {
     "data": {
      "text/html": [
       "<div>\n",
       "<style scoped>\n",
       "    .dataframe tbody tr th:only-of-type {\n",
       "        vertical-align: middle;\n",
       "    }\n",
       "\n",
       "    .dataframe tbody tr th {\n",
       "        vertical-align: top;\n",
       "    }\n",
       "\n",
       "    .dataframe thead th {\n",
       "        text-align: right;\n",
       "    }\n",
       "</style>\n",
       "<table border=\"1\" class=\"dataframe\">\n",
       "  <thead>\n",
       "    <tr style=\"text-align: right;\">\n",
       "      <th></th>\n",
       "      <th>NIVEL_CARGO</th>\n",
       "      <th>EDAD</th>\n",
       "      <th>ANTIGUEDAD_ANOS</th>\n",
       "      <th>GENERO</th>\n",
       "      <th>FRAUDE</th>\n",
       "    </tr>\n",
       "  </thead>\n",
       "  <tbody>\n",
       "    <tr>\n",
       "      <th>0</th>\n",
       "      <td>0</td>\n",
       "      <td>31</td>\n",
       "      <td>4</td>\n",
       "      <td>0</td>\n",
       "      <td>0</td>\n",
       "    </tr>\n",
       "    <tr>\n",
       "      <th>1</th>\n",
       "      <td>1</td>\n",
       "      <td>39</td>\n",
       "      <td>15</td>\n",
       "      <td>0</td>\n",
       "      <td>1</td>\n",
       "    </tr>\n",
       "    <tr>\n",
       "      <th>2</th>\n",
       "      <td>0</td>\n",
       "      <td>49</td>\n",
       "      <td>1</td>\n",
       "      <td>0</td>\n",
       "      <td>1</td>\n",
       "    </tr>\n",
       "    <tr>\n",
       "      <th>3</th>\n",
       "      <td>2</td>\n",
       "      <td>33</td>\n",
       "      <td>4</td>\n",
       "      <td>0</td>\n",
       "      <td>1</td>\n",
       "    </tr>\n",
       "    <tr>\n",
       "      <th>4</th>\n",
       "      <td>2</td>\n",
       "      <td>53</td>\n",
       "      <td>22</td>\n",
       "      <td>0</td>\n",
       "      <td>1</td>\n",
       "    </tr>\n",
       "  </tbody>\n",
       "</table>\n",
       "</div>"
      ],
      "text/plain": [
       "   NIVEL_CARGO  EDAD  ANTIGUEDAD_ANOS  GENERO  FRAUDE\n",
       "0            0    31                4       0       0\n",
       "1            1    39               15       0       1\n",
       "2            0    49                1       0       1\n",
       "3            2    33                4       0       1\n",
       "4            2    53               22       0       1"
      ]
     },
     "execution_count": 9,
     "metadata": {},
     "output_type": "execute_result"
    }
   ],
   "source": [
    "dataframe.head()"
   ]
  },
  {
   "cell_type": "code",
   "execution_count": 10,
   "metadata": {},
   "outputs": [
    {
     "data": {
      "text/html": [
       "<div>\n",
       "<style scoped>\n",
       "    .dataframe tbody tr th:only-of-type {\n",
       "        vertical-align: middle;\n",
       "    }\n",
       "\n",
       "    .dataframe tbody tr th {\n",
       "        vertical-align: top;\n",
       "    }\n",
       "\n",
       "    .dataframe thead th {\n",
       "        text-align: right;\n",
       "    }\n",
       "</style>\n",
       "<table border=\"1\" class=\"dataframe\">\n",
       "  <thead>\n",
       "    <tr style=\"text-align: right;\">\n",
       "      <th></th>\n",
       "      <th>NIVEL_CARGO</th>\n",
       "      <th>EDAD</th>\n",
       "      <th>ANTIGUEDAD_ANOS</th>\n",
       "      <th>GENERO</th>\n",
       "      <th>FRAUDE</th>\n",
       "    </tr>\n",
       "  </thead>\n",
       "  <tbody>\n",
       "    <tr>\n",
       "      <th>NIVEL_CARGO</th>\n",
       "      <td>1.000000</td>\n",
       "      <td>-0.069542</td>\n",
       "      <td>-0.021627</td>\n",
       "      <td>0.031703</td>\n",
       "      <td>-0.157591</td>\n",
       "    </tr>\n",
       "    <tr>\n",
       "      <th>EDAD</th>\n",
       "      <td>-0.069542</td>\n",
       "      <td>1.000000</td>\n",
       "      <td>0.808052</td>\n",
       "      <td>0.067838</td>\n",
       "      <td>0.066987</td>\n",
       "    </tr>\n",
       "    <tr>\n",
       "      <th>ANTIGUEDAD_ANOS</th>\n",
       "      <td>-0.021627</td>\n",
       "      <td>0.808052</td>\n",
       "      <td>1.000000</td>\n",
       "      <td>0.085142</td>\n",
       "      <td>0.089170</td>\n",
       "    </tr>\n",
       "    <tr>\n",
       "      <th>GENERO</th>\n",
       "      <td>0.031703</td>\n",
       "      <td>0.067838</td>\n",
       "      <td>0.085142</td>\n",
       "      <td>1.000000</td>\n",
       "      <td>-0.014407</td>\n",
       "    </tr>\n",
       "    <tr>\n",
       "      <th>FRAUDE</th>\n",
       "      <td>-0.157591</td>\n",
       "      <td>0.066987</td>\n",
       "      <td>0.089170</td>\n",
       "      <td>-0.014407</td>\n",
       "      <td>1.000000</td>\n",
       "    </tr>\n",
       "  </tbody>\n",
       "</table>\n",
       "</div>"
      ],
      "text/plain": [
       "                 NIVEL_CARGO      EDAD  ANTIGUEDAD_ANOS    GENERO    FRAUDE\n",
       "NIVEL_CARGO         1.000000 -0.069542        -0.021627  0.031703 -0.157591\n",
       "EDAD               -0.069542  1.000000         0.808052  0.067838  0.066987\n",
       "ANTIGUEDAD_ANOS    -0.021627  0.808052         1.000000  0.085142  0.089170\n",
       "GENERO              0.031703  0.067838         0.085142  1.000000 -0.014407\n",
       "FRAUDE             -0.157591  0.066987         0.089170 -0.014407  1.000000"
      ]
     },
     "execution_count": 10,
     "metadata": {},
     "output_type": "execute_result"
    }
   ],
   "source": [
    "dataframe.corr()"
   ]
  },
  {
   "cell_type": "code",
   "execution_count": 11,
   "metadata": {},
   "outputs": [
    {
     "data": {
      "text/plain": [
       "False"
      ]
     },
     "execution_count": 11,
     "metadata": {},
     "output_type": "execute_result"
    }
   ],
   "source": [
    "# Controlando que no hayan valores faltantes\n",
    "dataframe.isnull().any().any()"
   ]
  },
  {
   "cell_type": "markdown",
   "metadata": {},
   "source": [
    "# Observaciones y Conclusiones.\n",
    "A partir de los datos se puede observar que:\n",
    "\n",
    "*  edad y antiguedad_anos estan fuertmente correlacionadas positivamente , ya que el valor de la correlacion es 0,808052\n"
   ]
  },
  {
   "cell_type": "code",
   "execution_count": 12,
   "metadata": {},
   "outputs": [
    {
     "data": {
      "text/html": [
       "<div>\n",
       "<style scoped>\n",
       "    .dataframe tbody tr th:only-of-type {\n",
       "        vertical-align: middle;\n",
       "    }\n",
       "\n",
       "    .dataframe tbody tr th {\n",
       "        vertical-align: top;\n",
       "    }\n",
       "\n",
       "    .dataframe thead th {\n",
       "        text-align: right;\n",
       "    }\n",
       "</style>\n",
       "<table border=\"1\" class=\"dataframe\">\n",
       "  <thead>\n",
       "    <tr style=\"text-align: right;\">\n",
       "      <th></th>\n",
       "      <th>NIVEL_CARGO</th>\n",
       "      <th>EDAD</th>\n",
       "      <th>ANTIGUEDAD_ANOS</th>\n",
       "      <th>GENERO</th>\n",
       "      <th>FRAUDE</th>\n",
       "    </tr>\n",
       "  </thead>\n",
       "  <tbody>\n",
       "    <tr>\n",
       "      <th>0</th>\n",
       "      <td>0</td>\n",
       "      <td>31</td>\n",
       "      <td>4</td>\n",
       "      <td>0</td>\n",
       "      <td>0</td>\n",
       "    </tr>\n",
       "    <tr>\n",
       "      <th>1</th>\n",
       "      <td>1</td>\n",
       "      <td>39</td>\n",
       "      <td>15</td>\n",
       "      <td>0</td>\n",
       "      <td>1</td>\n",
       "    </tr>\n",
       "    <tr>\n",
       "      <th>2</th>\n",
       "      <td>0</td>\n",
       "      <td>49</td>\n",
       "      <td>1</td>\n",
       "      <td>0</td>\n",
       "      <td>1</td>\n",
       "    </tr>\n",
       "    <tr>\n",
       "      <th>3</th>\n",
       "      <td>2</td>\n",
       "      <td>33</td>\n",
       "      <td>4</td>\n",
       "      <td>0</td>\n",
       "      <td>1</td>\n",
       "    </tr>\n",
       "    <tr>\n",
       "      <th>4</th>\n",
       "      <td>2</td>\n",
       "      <td>53</td>\n",
       "      <td>22</td>\n",
       "      <td>0</td>\n",
       "      <td>1</td>\n",
       "    </tr>\n",
       "  </tbody>\n",
       "</table>\n",
       "</div>"
      ],
      "text/plain": [
       "   NIVEL_CARGO  EDAD  ANTIGUEDAD_ANOS  GENERO  FRAUDE\n",
       "0            0    31                4       0       0\n",
       "1            1    39               15       0       1\n",
       "2            0    49                1       0       1\n",
       "3            2    33                4       0       1\n",
       "4            2    53               22       0       1"
      ]
     },
     "execution_count": 12,
     "metadata": {},
     "output_type": "execute_result"
    }
   ],
   "source": [
    "dataframe.head()\n"
   ]
  },
  {
   "cell_type": "markdown",
   "metadata": {},
   "source": [
    "# Transformaciones y Red Neuronal\n",
    "\n",
    "A continación se procedera a determinar si alguna transformacion del conjunto de datos mejora o empeora el modelo.\n",
    "\n",
    "Para esto se calcularán los siguientes errores estadisticos:\n",
    "\n",
    "* SSE\n",
    "* MAE\n",
    "* MSE\n",
    "+ RMSE"
   ]
  },
  {
   "cell_type": "code",
   "execution_count": 15,
   "metadata": {},
   "outputs": [
    {
     "name": "stderr",
     "output_type": "stream",
     "text": [
      "C:\\Users\\CSANT\\Anaconda3\\lib\\site-packages\\h5py\\__init__.py:36: FutureWarning: Conversion of the second argument of issubdtype from `float` to `np.floating` is deprecated. In future, it will be treated as `np.float64 == np.dtype(float).type`.\n",
      "  from ._conv import register_converters as _register_converters\n"
     ]
    }
   ],
   "source": [
    "import tensorflow as tf\n",
    "\n",
    "from sklearn.model_selection import train_test_split\n",
    "from sklearn.linear_model import LinearRegression\n",
    "from sklearn import metrics"
   ]
  },
  {
   "cell_type": "code",
   "execution_count": 16,
   "metadata": {},
   "outputs": [
    {
     "name": "stdout",
     "output_type": "stream",
     "text": [
      "Errores de la Regresión Lineal con la transformación Función Cuadrada\n",
      "\n",
      "SSE: 13.09449980158506\n",
      "MAE: 0.16603822240257882\n",
      "MSE: 0.07234530277118818\n",
      "RMSE: 0.2689708214122643\n",
      "\n",
      "\n",
      "Errores de la Regresión Lineal con la transformación Función Cuadratica\n",
      "\n",
      "SSE: 14.247731385008429\n",
      "MAE: 0.17471244706950945\n",
      "MSE: 0.07871674798347199\n",
      "RMSE: 0.2805650512509924\n",
      "\n",
      "\n",
      "Errores de la Regresión Lineal con la transformación Función Identidad\n",
      "\n",
      "SSE: 21.44357565930633\n",
      "MAE: 0.19369595987545865\n",
      "MSE: 0.11847279369782503\n",
      "RMSE: 0.3441987706221872\n",
      "\n",
      "\n"
     ]
    }
   ],
   "source": [
    "# La transformacion logaritmo no es posible ya que no existe log de numeros negativos\n",
    "\n",
    "transformations = [(\"Función Cuadrada\", lambda x: x**2),\n",
    "                   (\"Función Cuadratica\", lambda x: x**3),\n",
    "                   (\"Función Identidad\", lambda x: x)]\n",
    "\n",
    "for name, transformation in transformations:\n",
    "    datos = dataframe.apply(transformation)\n",
    "    X_train, X_test, y_train, y_test = train_test_split(datos.drop(['FRAUDE'], axis=1), \n",
    "                                                        datos['FRAUDE'], test_size=0.30)\n",
    "    \n",
    "    lm = LinearRegression()\n",
    "    lm.fit(X_train,y_train)\n",
    "    predictions = lm.predict(X_test)\n",
    "    \n",
    "    squared_errors = (y_test - predictions) ** 2\n",
    "\n",
    "    print(\"Errores de la Regresión Lineal con la transformación \" + name + \"\\n\")\n",
    "    print('SSE:', np.sum(squared_errors)) \n",
    "    print('MAE:', metrics.mean_absolute_error(y_test, predictions))\n",
    "    print('MSE:', metrics.mean_squared_error(y_test, predictions))\n",
    "    print('RMSE:', np.sqrt(metrics.mean_squared_error(y_test, predictions)))\n",
    "    print(\"\\n\")"
   ]
  },
  {
   "cell_type": "markdown",
   "metadata": {},
   "source": [
    "# Análisis de los Errores\n",
    "\n",
    "Despues de obtener los respectivos errores al aplicar cada transformación al modelo, se puede observar que estos errores tienen valores muy altos, por lo tanto se concluye que no es óptimo para el modelo realizar alguna transformación."
   ]
  },
  {
   "cell_type": "markdown",
   "metadata": {},
   "source": [
    "# Red Neuronal\n"
   ]
  },
  {
   "cell_type": "code",
   "execution_count": 18,
   "metadata": {},
   "outputs": [],
   "source": [
    "from sklearn.preprocessing import MinMaxScaler\n",
    "from tensorflow.python.keras.models import Sequential\n",
    "from tensorflow.python.keras.layers import Dense\n",
    "from tensorflow.python.keras.wrappers.scikit_learn import KerasRegressor\n",
    "import matplotlib.pyplot as plt"
   ]
  },
  {
   "cell_type": "code",
   "execution_count": 19,
   "metadata": {},
   "outputs": [
    {
     "name": "stdout",
     "output_type": "stream",
     "text": [
      "MinMaxScaler(copy=True, feature_range=(0, 1))\n",
      "MinMaxScaler(copy=True, feature_range=(0, 1))\n"
     ]
    }
   ],
   "source": [
    "x=dataframe.drop(['FRAUDE'],axis=1)\n",
    "y=dataframe[['FRAUDE']]\n",
    "y=np.reshape(y, (-1,1))\n",
    "scaler = MinMaxScaler()\n",
    "print(scaler.fit(x))\n",
    "print(scaler.fit(y))\n",
    "xscale=scaler.transform(x)\n",
    "yscale=scaler.transform(y)\n"
   ]
  },
  {
   "cell_type": "markdown",
   "metadata": {},
   "source": [
    "# Entrenamiento"
   ]
  },
  {
   "cell_type": "code",
   "execution_count": 23,
   "metadata": {},
   "outputs": [],
   "source": [
    "X_train, X_test, y_train, y_test = train_test_split(xscale, yscale, test_size=0.20)"
   ]
  },
  {
   "cell_type": "code",
   "execution_count": 27,
   "metadata": {},
   "outputs": [
    {
     "name": "stdout",
     "output_type": "stream",
     "text": [
      "_________________________________________________________________\n",
      "Layer (type)                 Output Shape              Param #   \n",
      "=================================================================\n",
      "dense_30 (Dense)             (None, 25)                125       \n",
      "_________________________________________________________________\n",
      "dense_31 (Dense)             (None, 1)                 26        \n",
      "=================================================================\n",
      "Total params: 151\n",
      "Trainable params: 151\n",
      "Non-trainable params: 0\n",
      "_________________________________________________________________\n"
     ]
    },
    {
     "data": {
      "image/png": "[encoded data removed]",
      "text/plain": [
       "<Figure size 432x288 with 1 Axes>"
      ]
     },
     "metadata": {},
     "output_type": "display_data"
    },
    {
     "name": "stdout",
     "output_type": "stream",
     "text": [
      "_________________________________________________________________\n",
      "Layer (type)                 Output Shape              Param #   \n",
      "=================================================================\n",
      "dense_32 (Dense)             (None, 625)               3125      \n",
      "_________________________________________________________________\n",
      "dense_33 (Dense)             (None, 1)                 626       \n",
      "=================================================================\n",
      "Total params: 3,751\n",
      "Trainable params: 3,751\n",
      "Non-trainable params: 0\n",
      "_________________________________________________________________\n"
     ]
    },
    {
     "data": {
      "image/png": "[encoded data removed]",
      "text/plain": [
       "<Figure size 432x288 with 1 Axes>"
      ]
     },
     "metadata": {},
     "output_type": "display_data"
    },
    {
     "name": "stdout",
     "output_type": "stream",
     "text": [
      "_________________________________________________________________\n",
      "Layer (type)                 Output Shape              Param #   \n",
      "=================================================================\n",
      "dense_34 (Dense)             (None, 15625)             78125     \n",
      "_________________________________________________________________\n",
      "dense_35 (Dense)             (None, 1)                 15626     \n",
      "=================================================================\n",
      "Total params: 93,751\n",
      "Trainable params: 93,751\n",
      "Non-trainable params: 0\n",
      "_________________________________________________________________\n"
     ]
    },
    {
     "data": {
      "image/png": "[encoded data removed]",
      "text/plain": [
       "<Figure size 432x288 with 1 Axes>"
      ]
     },
     "metadata": {},
     "output_type": "display_data"
    }
   ],
   "source": [
    "\n",
    "quantity_of_neurons = [25, 625, 15625]\n",
    "for units in quantity_of_neurons:\n",
    "    model = Sequential()\n",
    "    \n",
    "    # Funcion de Activacion\n",
    "    model.add(Dense(units, input_dim=X_train.shape[1], kernel_initializer='normal', activation='relu'))\n",
    "    \n",
    "    # Neurona de Salida\n",
    "    model.add(Dense(1, activation='linear'))\n",
    "    model.summary()\n",
    "    \n",
    "    ## optimizacion usando gradiente\n",
    "    optimizer = tf.train.GradientDescentOptimizer(learning_rate=0.01)\n",
    "    \n",
    "    model.compile(loss='mse', optimizer='adam', metrics=['mse','mae'])\n",
    "    history = model.fit(X_train, y_train, epochs=200, batch_size=10, verbose=0, validation_split=0.2)\n",
    "    \n",
    "    plt.plot(history.history['loss'])\n",
    "    plt.plot(history.history['val_loss'])\n",
    "    plt.title('model loss with ' + str(units) + \" units\")\n",
    "    plt.ylabel('loss')\n",
    "    plt.xlabel('epoch')\n",
    "    plt.legend(['train', 'validation'], loc='upper left')\n",
    "    plt.show()\n",
    "    \n",
    "\n",
    "       "
   ]
  },
  {
   "cell_type": "markdown",
   "metadata": {},
   "source": [
    "# Resultado\n",
    "\n",
    "* Finalmente, se logra minimizar al maximo el margen de error del modelo, ya que como se puede observar en la grafica el modelo de validacion es muy semejante al modelo del entrenamiento"
   ]
  },
  {
   "cell_type": "markdown",
   "metadata": {},
   "source": [
    "# Predicciones\n",
    "\n",
    "* A continuación según el modelo entrenado anteriormente se procederá a realizar predicciones\n",
    "\n",
    "\n",
    "* 0 = Si Fraude\n",
    "* 1 = No Fraude"
   ]
  },
  {
   "cell_type": "code",
   "execution_count": 46,
   "metadata": {},
   "outputs": [
    {
     "name": "stdout",
     "output_type": "stream",
     "text": [
      "[4.0, 32.0, 4.0, 1.0] => 0 (esperado 0)\n",
      "[2.0, 24.0, 3.0, 1.0] => 1 (esperado 1)\n",
      "[2.0, 25.0, 3.0, 0.0] => 1 (esperado 1)\n",
      "[2.0, 24.0, 0.0, 0.0] => 1 (esperado 1)\n",
      "[3.0, 45.0, 18.0, 1.0] => 1 (esperado 1)\n",
      "[2.0, 25.0, 3.0, 1.0] => 1 (esperado 1)\n",
      "[2.0, 44.0, 23.0, 0.0] => 1 (esperado 1)\n",
      "[2.0, 31.0, 6.0, 0.0] => 1 (esperado 1)\n",
      "[0.0, 39.0, 12.0, 0.0] => 1 (esperado 1)\n",
      "[0.0, 38.0, 8.0, 1.0] => 1 (esperado 1)\n"
     ]
    }
   ],
   "source": [
    "predictions = model.predict_classes(X_train)\n",
    "for i in range(10):\n",
    "    result = '%s => %d (esperado %d)' % (X_train[i].tolist(), predictions[i], y_train[i])\n",
    "    print(result)"
   ]
  },
  {
   "cell_type": "markdown",
   "metadata": {},
   "source": [
    "# Interpretación"
   ]
  },
  {
   "cell_type": "markdown",
   "metadata": {},
   "source": [
    "Para poder interpretar los datos obtenidos anteriormente en los pronosticos se debe tener en cuenta los siguientes aspectos:"
   ]
  },
  {
   "cell_type": "code",
   "execution_count": 35,
   "metadata": {},
   "outputs": [
    {
     "data": {
      "text/html": [
       "<div>\n",
       "<style scoped>\n",
       "    .dataframe tbody tr th:only-of-type {\n",
       "        vertical-align: middle;\n",
       "    }\n",
       "\n",
       "    .dataframe tbody tr th {\n",
       "        vertical-align: top;\n",
       "    }\n",
       "\n",
       "    .dataframe thead th {\n",
       "        text-align: right;\n",
       "    }\n",
       "</style>\n",
       "<table border=\"1\" class=\"dataframe\">\n",
       "  <thead>\n",
       "    <tr style=\"text-align: right;\">\n",
       "      <th></th>\n",
       "      <th>NIVEL_CARGO</th>\n",
       "      <th>EDAD</th>\n",
       "      <th>ANTIGUEDAD_ANOS</th>\n",
       "      <th>GENERO</th>\n",
       "    </tr>\n",
       "  </thead>\n",
       "  <tbody>\n",
       "    <tr>\n",
       "      <th>0</th>\n",
       "      <td>0</td>\n",
       "      <td>31</td>\n",
       "      <td>4</td>\n",
       "      <td>0</td>\n",
       "    </tr>\n",
       "    <tr>\n",
       "      <th>1</th>\n",
       "      <td>1</td>\n",
       "      <td>39</td>\n",
       "      <td>15</td>\n",
       "      <td>0</td>\n",
       "    </tr>\n",
       "    <tr>\n",
       "      <th>2</th>\n",
       "      <td>0</td>\n",
       "      <td>49</td>\n",
       "      <td>1</td>\n",
       "      <td>0</td>\n",
       "    </tr>\n",
       "    <tr>\n",
       "      <th>3</th>\n",
       "      <td>2</td>\n",
       "      <td>33</td>\n",
       "      <td>4</td>\n",
       "      <td>0</td>\n",
       "    </tr>\n",
       "    <tr>\n",
       "      <th>4</th>\n",
       "      <td>2</td>\n",
       "      <td>53</td>\n",
       "      <td>22</td>\n",
       "      <td>0</td>\n",
       "    </tr>\n",
       "  </tbody>\n",
       "</table>\n",
       "</div>"
      ],
      "text/plain": [
       "   NIVEL_CARGO  EDAD  ANTIGUEDAD_ANOS  GENERO\n",
       "0            0    31                4       0\n",
       "1            1    39               15       0\n",
       "2            0    49                1       0\n",
       "3            2    33                4       0\n",
       "4            2    53               22       0"
      ]
     },
     "execution_count": 35,
     "metadata": {},
     "output_type": "execute_result"
    }
   ],
   "source": [
    "x.head()"
   ]
  },
  {
   "cell_type": "markdown",
   "metadata": {},
   "source": [
    "* Como se puede observar anteriormente nuestro modelo consta de 4 variables de entrada que son NIVEL_CARGO, EDAD,ANTIGUEDAD_ANOS,GENERO\n",
    "\n",
    "\n",
    "* Por lo tanto tomando de ejemplo el primer resultado se obtiene que:\n",
    "\n",
    "    * Una persona con cargo 4 (Coordinador) de 32 Años de Edad con 4 Años de Antiguedad y Genero Femenino tiene una probabilidad alta de efectuar el fraude"
   ]
  },
  {
   "cell_type": "markdown",
   "metadata": {},
   "source": [
    "# Generación de Archivo CSV\n",
    "\n",
    "* A continuacion se convierten los datos obtenidos en un dataframe para posteriormente convertirlos en un archivo CSV para trabajar con estos y poder notificar."
   ]
  },
  {
   "cell_type": "code",
   "execution_count": 62,
   "metadata": {},
   "outputs": [
    {
     "data": {
      "text/html": [
       "<div>\n",
       "<style scoped>\n",
       "    .dataframe tbody tr th:only-of-type {\n",
       "        vertical-align: middle;\n",
       "    }\n",
       "\n",
       "    .dataframe tbody tr th {\n",
       "        vertical-align: top;\n",
       "    }\n",
       "\n",
       "    .dataframe thead th {\n",
       "        text-align: right;\n",
       "    }\n",
       "</style>\n",
       "<table border=\"1\" class=\"dataframe\">\n",
       "  <thead>\n",
       "    <tr style=\"text-align: right;\">\n",
       "      <th></th>\n",
       "      <th>Datos</th>\n",
       "      <th>Fraude</th>\n",
       "    </tr>\n",
       "  </thead>\n",
       "  <tbody>\n",
       "    <tr>\n",
       "      <th>0</th>\n",
       "      <td>[4.0, 32.0, 4.0, 1.0]</td>\n",
       "      <td>[0]</td>\n",
       "    </tr>\n",
       "    <tr>\n",
       "      <th>1</th>\n",
       "      <td>[2.0, 24.0, 3.0, 1.0]</td>\n",
       "      <td>[1]</td>\n",
       "    </tr>\n",
       "    <tr>\n",
       "      <th>2</th>\n",
       "      <td>[2.0, 25.0, 3.0, 0.0]</td>\n",
       "      <td>[1]</td>\n",
       "    </tr>\n",
       "    <tr>\n",
       "      <th>3</th>\n",
       "      <td>[2.0, 24.0, 0.0, 0.0]</td>\n",
       "      <td>[1]</td>\n",
       "    </tr>\n",
       "    <tr>\n",
       "      <th>4</th>\n",
       "      <td>[3.0, 45.0, 18.0, 1.0]</td>\n",
       "      <td>[1]</td>\n",
       "    </tr>\n",
       "    <tr>\n",
       "      <th>5</th>\n",
       "      <td>[2.0, 25.0, 3.0, 1.0]</td>\n",
       "      <td>[1]</td>\n",
       "    </tr>\n",
       "    <tr>\n",
       "      <th>6</th>\n",
       "      <td>[2.0, 44.0, 23.0, 0.0]</td>\n",
       "      <td>[1]</td>\n",
       "    </tr>\n",
       "    <tr>\n",
       "      <th>7</th>\n",
       "      <td>[2.0, 31.0, 6.0, 0.0]</td>\n",
       "      <td>[1]</td>\n",
       "    </tr>\n",
       "    <tr>\n",
       "      <th>8</th>\n",
       "      <td>[0.0, 39.0, 12.0, 0.0]</td>\n",
       "      <td>[1]</td>\n",
       "    </tr>\n",
       "    <tr>\n",
       "      <th>9</th>\n",
       "      <td>[0.0, 38.0, 8.0, 1.0]</td>\n",
       "      <td>[1]</td>\n",
       "    </tr>\n",
       "  </tbody>\n",
       "</table>\n",
       "</div>"
      ],
      "text/plain": [
       "                    Datos Fraude\n",
       "0   [4.0, 32.0, 4.0, 1.0]    [0]\n",
       "1   [2.0, 24.0, 3.0, 1.0]    [1]\n",
       "2   [2.0, 25.0, 3.0, 0.0]    [1]\n",
       "3   [2.0, 24.0, 0.0, 0.0]    [1]\n",
       "4  [3.0, 45.0, 18.0, 1.0]    [1]\n",
       "5   [2.0, 25.0, 3.0, 1.0]    [1]\n",
       "6  [2.0, 44.0, 23.0, 0.0]    [1]\n",
       "7   [2.0, 31.0, 6.0, 0.0]    [1]\n",
       "8  [0.0, 39.0, 12.0, 0.0]    [1]\n",
       "9   [0.0, 38.0, 8.0, 1.0]    [1]"
      ]
     },
     "execution_count": 62,
     "metadata": {},
     "output_type": "execute_result"
    }
   ],
   "source": [
    "from pandas import DataFrame as df\n",
    "\n",
    "predictions = model.predict_classes(X_train)\n",
    "\n",
    "df = pd.DataFrame({'Datos': [], 'Fraude': []})\n",
    "\n",
    "for i in range(10):\n",
    "    df = df.append({'Datos': X_train[i].tolist(), 'Fraude': predictions[i].tolist() }, ignore_index=True)\n",
    "\n",
    "## Se crea el Archivo\n",
    "df.to_csv('Notificacion.csv')\n",
    "\n",
    "## Se muestra como quedara el archivo\n",
    "df"
   ]
  }
 ],
 "metadata": {
  "kernelspec": {
   "display_name": "Python 3",
   "language": "python",
   "name": "python3"
  },
  "language_info": {
   "codemirror_mode": {
    "name": "ipython",
    "version": 3
   },
   "file_extension": ".py",
   "mimetype": "text/x-python",
   "name": "python",
   "nbconvert_exporter": "python",
   "pygments_lexer": "ipython3",
   "version": "3.6.4"
  }
 },
 "nbformat": 4,
 "nbformat_minor": 2
}
